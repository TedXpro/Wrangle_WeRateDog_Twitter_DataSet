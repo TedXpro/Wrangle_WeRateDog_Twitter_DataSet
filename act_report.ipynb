{
 "cells": [
  {
   "cell_type": "markdown",
   "metadata": {},
   "source": [
    "## Report: act_report"
   ]
  },
  {
   "cell_type": "markdown",
   "metadata": {},
   "source": [
    "In this post, we are going to see the result of my data wrangling and analysis on data from the Twitter account [@WeRateDogs](https://twitter.com/dog_rates). That consists of tweets and image predictions on top of the images in the tweets run by a machine learning model built by Udacity. The tweets I analyzed are all posted before August 01, 2017. After doing a data wrangling process (gathering, assessing and cleaning data), I performed some analysis on the cleaned data. \n",
    "\n",
    "The main aim of my analysis were to visualize and prove the following questions. \n",
    "1. See the rating numerator distribution\n",
    "2. Which dog stage is the most rated (frequency of rating for each dog stage)\n",
    "3. If the tweets with highly rated ratios also have high number of interactions\n",
    "\n",
    "Let's see them one by one. \n",
    "\n",
    "## 1. Rating Numerator Distribution\n",
    "\n",
    "The Twitter account is known for rating dogs. The rating is always with the following format: numerator/denominator. The denominator is mostly 10, while the numerator is above 10. This is documented in the [book](https://www.amazon.com/WeRateDogs-Most-Hilarious-Adorable-Youve/dp/1510717145) written by the account owners. So, look at the following bar chart to see the frequency (count) of the different ratings taken before August 2017. \n",
    "\n",
    "![Rating Numerator Distribution](images/rating_dist.jpeg)\n",
    "\n",
    "It shows that most of the ratings are concentrated in between 8 and 14 (both inclusive). This shows that most dogs rated in the account get a rating between 8 and 14 out of 10. \n",
    "\n",
    "If you look closely, the x-axis goes until 1776! That means there is a rating with 1776! We got to see what kind of dog this was! It was from [this tweet](https://twitter.com/dog_rates/status/749981277374128128). \n",
    "\n",
    "![Highest Rated Dog](https://pbs.twimg.com/media/CmgBZ7kWcAAlzFD?format=jpg&name=small)\n",
    "\n",
    "## 2. Mostly Rated Dog Stage\n",
    "\n",
    "Dog stages are also discussed in the [book](https://www.amazon.com/WeRateDogs-Most-Hilarious-Adorable-Youve/dp/1510717145) written by the account holders. The dog stages in the data are: Doggo, Floofer, Pupper, and Puppo. Based on the number of ratings performed for the different dogs, we have identified that Pupper types are the most rated (frequency wise, not numerator rating!).\n",
    "\n",
    "Dog Stage | Number of times rated\n",
    "--- | --- |\n",
    "doggo   |   73  \n",
    "floofer |  10  \n",
    "pupper  |   223 \n",
    "puppo   |   24  \n",
    "\n",
    "However, the rating ratio (numerator divided by denominator), all stages have pretty much similar rate. \n",
    "\n",
    "Dog Stage | Rating Ratio (numerator / denominator)\n",
    "--- | ---\n",
    "doggo   |    1.182192\n",
    "floofer |    1.180000\n",
    "pupper  |   1.075009\n",
    "puppo   |   1.204167\n",
    "\n",
    "One more tip, amongst the 1973 predictions made on the tweet images (predictions by a machine learning model developed by Udacity), 1464 are predicting the images to be dogs. \n",
    "\n",
    "## 3. Is High Rating Ratio Related to Most Users Interaction\n",
    "\n",
    "Now, let's investigate if tweets with high rating ratio (numerator / denominator) also have high Twitter user interaction (retweet + favorite count). I have drawn a scatter plot for that.\n",
    "\n",
    "![ratio vs interaction](images/ratio_vs_interaction.jpeg)\n",
    "\n",
    "Well, it seems like the data is right skewed (most data is concentrated to the left and some outliers are to the right). This makes it hard to see and understand and answer our question. So, let's do EDA (Exploratory data analysis).\n",
    "\n",
    "The first thing to do is, to clean the outliers. I did that using a programming tool called Python (which I used for the data wrangling and drawing the images). Then after removing the two outliers from the right side, the following drawing was achived (this time, it's zoomed to the left side of the image above). \n",
    "\n",
    "![revised ratio vs interaction](images/ratio_vs_interaction_revised.jpeg)\n",
    "\n",
    "Well, the above image shows that as the rating increased (to the right of the x-axis), the user interaction also increased (in the y-axis). \n",
    "\n",
    "## Conclusion\n",
    "\n",
    "To conclude, the data from Twitter is gathered, assessed, and cleaned before using it to get insights. In this blog, I tried to answer three questions using the cleaned data. "
   ]
  }
 ],
 "metadata": {
  "kernelspec": {
   "display_name": "Python 3",
   "language": "python",
   "name": "python3"
  },
  "language_info": {
   "codemirror_mode": {
    "name": "ipython",
    "version": 3
   },
   "file_extension": ".py",
   "mimetype": "text/x-python",
   "name": "python",
   "nbconvert_exporter": "python",
   "pygments_lexer": "ipython3",
   "version": "3.6.3"
  }
 },
 "nbformat": 4,
 "nbformat_minor": 2
}
